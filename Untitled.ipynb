{
 "cells": [
  {
   "cell_type": "markdown",
   "id": "936be6e1-f79b-4527-aadb-b936f3d77e21",
   "metadata": {},
   "source": [
    "**Задание**\n",
    "\n",
    "Нужно найти всё молоко бренда «Домик в деревне» для этого заполнить колонку «check», в ней\r\n",
    "проставить значения 1 или 0, где 1 — соответствует искомому бренду, 0 — не соответствует.\r\n",
    "Обращайте внимание, что бренд может быть написан по-разному (возможны сокращения и\r\n",
    "орфографические ошибки), так же могут попадаться товары, не относящиеся к категории молоко."
   ]
  },
  {
   "cell_type": "markdown",
   "id": "3d823068-12e4-4b2e-bcaf-27291450321a",
   "metadata": {},
   "source": [
    "**Решение**"
   ]
  },
  {
   "cell_type": "markdown",
   "id": "3df7c114-7758-42db-88c1-5e2faf6e5df6",
   "metadata": {},
   "source": [
    "Импортируем библиотеку pandas для работы с данными в формате таблиц и re для работы с регулярными отношениями"
   ]
  },
  {
   "cell_type": "code",
   "execution_count": 4,
   "id": "cc347e69-4ae4-4f52-9194-912141cb1c0e",
   "metadata": {},
   "outputs": [],
   "source": [
    "import pandas as pd\n",
    "import re"
   ]
  },
  {
   "cell_type": "markdown",
   "id": "65f54255-e2a6-4eca-9c22-979998acea94",
   "metadata": {},
   "source": [
    "Загружаем данные"
   ]
  },
  {
   "cell_type": "code",
   "execution_count": 6,
   "id": "e5439f6a-4e81-47cb-a218-1ecccf449ca0",
   "metadata": {},
   "outputs": [],
   "source": [
    "data = pd.read_csv('milk.csv', sep = ';')"
   ]
  },
  {
   "cell_type": "code",
   "execution_count": 7,
   "id": "c9b3fa26-563c-41d6-93a4-694e651b8304",
   "metadata": {},
   "outputs": [
    {
     "data": {
      "text/html": [
       "<div>\n",
       "<style scoped>\n",
       "    .dataframe tbody tr th:only-of-type {\n",
       "        vertical-align: middle;\n",
       "    }\n",
       "\n",
       "    .dataframe tbody tr th {\n",
       "        vertical-align: top;\n",
       "    }\n",
       "\n",
       "    .dataframe thead th {\n",
       "        text-align: right;\n",
       "    }\n",
       "</style>\n",
       "<table border=\"1\" class=\"dataframe\">\n",
       "  <thead>\n",
       "    <tr style=\"text-align: right;\">\n",
       "      <th></th>\n",
       "      <th>brand</th>\n",
       "      <th>product_name</th>\n",
       "      <th>check</th>\n",
       "    </tr>\n",
       "  </thead>\n",
       "  <tbody>\n",
       "    <tr>\n",
       "      <th>0</th>\n",
       "      <td>moloko</td>\n",
       "      <td>молоко домик в деревне 3 5% 0 2л</td>\n",
       "      <td>NaN</td>\n",
       "    </tr>\n",
       "    <tr>\n",
       "      <th>1</th>\n",
       "      <td>moloko</td>\n",
       "      <td>молоко ультрапастериз 2 5% село домашкино 900г...</td>\n",
       "      <td>NaN</td>\n",
       "    </tr>\n",
       "    <tr>\n",
       "      <th>2</th>\n",
       "      <td>moloko</td>\n",
       "      <td>молоко стерилиз домик в деревне 3 2% 950гр тва</td>\n",
       "      <td>NaN</td>\n",
       "    </tr>\n",
       "    <tr>\n",
       "      <th>3</th>\n",
       "      <td>moloko</td>\n",
       "      <td>молоко домик в деревне 1 5% 950г</td>\n",
       "      <td>NaN</td>\n",
       "    </tr>\n",
       "    <tr>\n",
       "      <th>4</th>\n",
       "      <td>moloko</td>\n",
       "      <td>молоко домашенька 3 2% пэт 1 4л оао белореченс...</td>\n",
       "      <td>NaN</td>\n",
       "    </tr>\n",
       "  </tbody>\n",
       "</table>\n",
       "</div>"
      ],
      "text/plain": [
       "    brand                                       product_name  check\n",
       "0  moloko                   молоко домик в деревне 3 5% 0 2л    NaN\n",
       "1  moloko  молоко ультрапастериз 2 5% село домашкино 900г...    NaN\n",
       "2  moloko     молоко стерилиз домик в деревне 3 2% 950гр тва    NaN\n",
       "3  moloko                   молоко домик в деревне 1 5% 950г    NaN\n",
       "4  moloko  молоко домашенька 3 2% пэт 1 4л оао белореченс...    NaN"
      ]
     },
     "execution_count": 7,
     "metadata": {},
     "output_type": "execute_result"
    }
   ],
   "source": [
    "data.head()"
   ]
  },
  {
   "cell_type": "markdown",
   "id": "7f624ee9-28c1-4156-991e-7635ed1de200",
   "metadata": {},
   "source": [
    "Заполняем колонку *check* нулями"
   ]
  },
  {
   "cell_type": "code",
   "execution_count": 9,
   "id": "00516931-9fbb-42b2-8337-2a6eefbd308c",
   "metadata": {},
   "outputs": [],
   "source": [
    "data['check'] = 0"
   ]
  },
  {
   "cell_type": "markdown",
   "id": "c1925b80-3751-4451-94f0-806c3a7955d5",
   "metadata": {},
   "source": [
    "Создаем регулярные выражения для поиска строки \"Домик в деревне\" и \"молоко\" соответственно. Используем символ r перед строкой, чтобы указать, что символы в ней должны рассматриваться буквально, без использования специальных символов."
   ]
  },
  {
   "cell_type": "code",
   "execution_count": 11,
   "id": "6fb98abd-71a2-4f7e-abed-d16889f4160b",
   "metadata": {},
   "outputs": [],
   "source": [
    "pattern_brand = r\"Домик\"\n",
    "\n",
    "pattern_product = r\"молоко\""
   ]
  },
  {
   "cell_type": "markdown",
   "id": "2d458705-18a8-4da4-bc8e-72a04afb40ef",
   "metadata": {},
   "source": [
    "Применяем регулярные выражения к столбцу \"product_name\". Метод str.contains() ищет совпадения с регулярным выражением. Параметр case=False позволяет игнорировать регистр букв, а na=False - обрабатывать пропущенные значения. Используем оператор &, чтобы выделить только товары, соответствующие обоим условиям."
   ]
  },
  {
   "cell_type": "code",
   "execution_count": 13,
   "id": "9e4dddbc-097c-4993-a1f9-65d43de9646a",
   "metadata": {},
   "outputs": [],
   "source": [
    "data['check'] = (data['product_name'].str.contains(pattern_brand, case=False, na=False) & \n",
    "                data['product_name'].str.contains(pattern_product, case=False, na=False).astype(int))"
   ]
  },
  {
   "cell_type": "markdown",
   "id": "592f546e-ce6c-4944-bd6b-fc5c2f9e98f3",
   "metadata": {},
   "source": [
    "Подсчитаем количество нужных нам строк"
   ]
  },
  {
   "cell_type": "code",
   "execution_count": 15,
   "id": "bc9e329d-907a-4ccf-a2b7-de3f9211f06a",
   "metadata": {},
   "outputs": [
    {
     "data": {
      "text/plain": [
       "2462"
      ]
     },
     "execution_count": 15,
     "metadata": {},
     "output_type": "execute_result"
    }
   ],
   "source": [
    "data['check'].sum()"
   ]
  },
  {
   "cell_type": "markdown",
   "id": "f715a3e3-6876-41c7-aadc-cd44bb55f351",
   "metadata": {},
   "source": [
    "Выведем первые 10 строк с 1 в check"
   ]
  },
  {
   "cell_type": "code",
   "execution_count": 17,
   "id": "87037767-073d-471d-9b6f-6added98bb81",
   "metadata": {},
   "outputs": [
    {
     "data": {
      "text/html": [
       "<div>\n",
       "<style scoped>\n",
       "    .dataframe tbody tr th:only-of-type {\n",
       "        vertical-align: middle;\n",
       "    }\n",
       "\n",
       "    .dataframe tbody tr th {\n",
       "        vertical-align: top;\n",
       "    }\n",
       "\n",
       "    .dataframe thead th {\n",
       "        text-align: right;\n",
       "    }\n",
       "</style>\n",
       "<table border=\"1\" class=\"dataframe\">\n",
       "  <thead>\n",
       "    <tr style=\"text-align: right;\">\n",
       "      <th></th>\n",
       "      <th>brand</th>\n",
       "      <th>product_name</th>\n",
       "      <th>check</th>\n",
       "    </tr>\n",
       "  </thead>\n",
       "  <tbody>\n",
       "    <tr>\n",
       "      <th>0</th>\n",
       "      <td>moloko</td>\n",
       "      <td>молоко домик в деревне 3 5% 0 2л</td>\n",
       "      <td>True</td>\n",
       "    </tr>\n",
       "    <tr>\n",
       "      <th>2</th>\n",
       "      <td>moloko</td>\n",
       "      <td>молоко стерилиз домик в деревне 3 2% 950гр тва</td>\n",
       "      <td>True</td>\n",
       "    </tr>\n",
       "    <tr>\n",
       "      <th>3</th>\n",
       "      <td>moloko</td>\n",
       "      <td>молоко домик в деревне 1 5% 950г</td>\n",
       "      <td>True</td>\n",
       "    </tr>\n",
       "    <tr>\n",
       "      <th>5</th>\n",
       "      <td>moloko</td>\n",
       "      <td>молоко домик в деревне 0 5% 1л 1 000</td>\n",
       "      <td>True</td>\n",
       "    </tr>\n",
       "    <tr>\n",
       "      <th>8</th>\n",
       "      <td>moloko</td>\n",
       "      <td>молоко домик в деревне 3 2% 950г</td>\n",
       "      <td>True</td>\n",
       "    </tr>\n",
       "    <tr>\n",
       "      <th>9</th>\n",
       "      <td>moloko</td>\n",
       "      <td>молоко домик в деревне 2 5% 1 0л</td>\n",
       "      <td>True</td>\n",
       "    </tr>\n",
       "    <tr>\n",
       "      <th>10</th>\n",
       "      <td>moloko</td>\n",
       "      <td>молоко пастеризованное домик в деревне отборно...</td>\n",
       "      <td>True</td>\n",
       "    </tr>\n",
       "    <tr>\n",
       "      <th>11</th>\n",
       "      <td>moloko</td>\n",
       "      <td>молоко домик в деревне ультрапаст 0 5% 923 мл ...</td>\n",
       "      <td>True</td>\n",
       "    </tr>\n",
       "    <tr>\n",
       "      <th>13</th>\n",
       "      <td>moloko</td>\n",
       "      <td>молоко ультрапастеризованное 3 2% домик в дере...</td>\n",
       "      <td>True</td>\n",
       "    </tr>\n",
       "    <tr>\n",
       "      <th>14</th>\n",
       "      <td>moloko</td>\n",
       "      <td>молоко домик в деревне ультрапаст 1 5% 950 гр ...</td>\n",
       "      <td>True</td>\n",
       "    </tr>\n",
       "  </tbody>\n",
       "</table>\n",
       "</div>"
      ],
      "text/plain": [
       "     brand                                       product_name  check\n",
       "0   moloko                   молоко домик в деревне 3 5% 0 2л   True\n",
       "2   moloko     молоко стерилиз домик в деревне 3 2% 950гр тва   True\n",
       "3   moloko                   молоко домик в деревне 1 5% 950г   True\n",
       "5   moloko               молоко домик в деревне 0 5% 1л 1 000   True\n",
       "8   moloko                   молоко домик в деревне 3 2% 950г   True\n",
       "9   moloko                   молоко домик в деревне 2 5% 1 0л   True\n",
       "10  moloko  молоко пастеризованное домик в деревне отборно...   True\n",
       "11  moloko  молоко домик в деревне ультрапаст 0 5% 923 мл ...   True\n",
       "13  moloko  молоко ультрапастеризованное 3 2% домик в дере...   True\n",
       "14  moloko  молоко домик в деревне ультрапаст 1 5% 950 гр ...   True"
      ]
     },
     "execution_count": 17,
     "metadata": {},
     "output_type": "execute_result"
    }
   ],
   "source": [
    "data[data['check'] == 1].head(10)"
   ]
  },
  {
   "cell_type": "code",
   "execution_count": 27,
   "id": "80aeb068-3593-41e8-b1ec-b8ca81fbb430",
   "metadata": {},
   "outputs": [],
   "source": [
    "data.to_csv('data.csv', index=False)"
   ]
  },
  {
   "cell_type": "code",
   "execution_count": null,
   "id": "7a73d50d-a151-42c9-83f9-3390d815df1e",
   "metadata": {},
   "outputs": [],
   "source": []
  }
 ],
 "metadata": {
  "kernelspec": {
   "display_name": "Python 3 (ipykernel)",
   "language": "python",
   "name": "python3"
  },
  "language_info": {
   "codemirror_mode": {
    "name": "ipython",
    "version": 3
   },
   "file_extension": ".py",
   "mimetype": "text/x-python",
   "name": "python",
   "nbconvert_exporter": "python",
   "pygments_lexer": "ipython3",
   "version": "3.12.4"
  }
 },
 "nbformat": 4,
 "nbformat_minor": 5
}
